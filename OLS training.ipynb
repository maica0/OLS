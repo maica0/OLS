{
  "cells": [
    {
      "cell_type": "code",
      "execution_count": 28,
      "id": "eeec0c8c-66d4-4197-b47c-9d00abec215c",
      "metadata": {
        "id": "eeec0c8c-66d4-4197-b47c-9d00abec215c"
      },
      "outputs": [],
      "source": [
        "import pandas as pd\n",
        "import numpy as np\n",
        "import matplotlib.pyplot as plt"
      ]
    },
    {
      "cell_type": "code",
      "execution_count": 29,
      "id": "da43a383-cb3e-477a-9f7f-35f7a258efe5",
      "metadata": {
        "id": "da43a383-cb3e-477a-9f7f-35f7a258efe5"
      },
      "outputs": [],
      "source": [
        "# This data was featured in ML-I, but in Dataiku\n",
        "# The target variable is \"medv\"\n",
        "df = pd.read_excel('Boston.xlsx')"
      ]
    },
    {
      "cell_type": "code",
      "execution_count": 30,
      "id": "a718db26-ec12-4da2-ab92-e9f0e127642c",
      "metadata": {
        "id": "a718db26-ec12-4da2-ab92-e9f0e127642c",
        "outputId": "d4b46e45-955b-4508-f463-2edbfad1cbc1"
      },
      "outputs": [
        {
          "data": {
            "text/html": [
              "<div>\n",
              "<style scoped>\n",
              "    .dataframe tbody tr th:only-of-type {\n",
              "        vertical-align: middle;\n",
              "    }\n",
              "\n",
              "    .dataframe tbody tr th {\n",
              "        vertical-align: top;\n",
              "    }\n",
              "\n",
              "    .dataframe thead th {\n",
              "        text-align: right;\n",
              "    }\n",
              "</style>\n",
              "<table border=\"1\" class=\"dataframe\">\n",
              "  <thead>\n",
              "    <tr style=\"text-align: right;\">\n",
              "      <th></th>\n",
              "      <th>crim</th>\n",
              "      <th>zn</th>\n",
              "      <th>indus</th>\n",
              "      <th>chas</th>\n",
              "      <th>nox</th>\n",
              "      <th>rm</th>\n",
              "      <th>age</th>\n",
              "      <th>dis</th>\n",
              "      <th>rad</th>\n",
              "      <th>tax</th>\n",
              "      <th>ptratio</th>\n",
              "      <th>lstat</th>\n",
              "      <th>medv</th>\n",
              "    </tr>\n",
              "  </thead>\n",
              "  <tbody>\n",
              "    <tr>\n",
              "      <th>0</th>\n",
              "      <td>0.00632</td>\n",
              "      <td>18.0</td>\n",
              "      <td>2.31</td>\n",
              "      <td>0</td>\n",
              "      <td>0.538</td>\n",
              "      <td>6.575</td>\n",
              "      <td>65.2</td>\n",
              "      <td>4.0900</td>\n",
              "      <td>1</td>\n",
              "      <td>296</td>\n",
              "      <td>15.3</td>\n",
              "      <td>4.98</td>\n",
              "      <td>24.0</td>\n",
              "    </tr>\n",
              "    <tr>\n",
              "      <th>1</th>\n",
              "      <td>0.02731</td>\n",
              "      <td>0.0</td>\n",
              "      <td>7.07</td>\n",
              "      <td>0</td>\n",
              "      <td>0.469</td>\n",
              "      <td>6.421</td>\n",
              "      <td>78.9</td>\n",
              "      <td>4.9671</td>\n",
              "      <td>2</td>\n",
              "      <td>242</td>\n",
              "      <td>17.8</td>\n",
              "      <td>9.14</td>\n",
              "      <td>21.6</td>\n",
              "    </tr>\n",
              "    <tr>\n",
              "      <th>2</th>\n",
              "      <td>0.02729</td>\n",
              "      <td>0.0</td>\n",
              "      <td>7.07</td>\n",
              "      <td>0</td>\n",
              "      <td>0.469</td>\n",
              "      <td>7.185</td>\n",
              "      <td>61.1</td>\n",
              "      <td>4.9671</td>\n",
              "      <td>2</td>\n",
              "      <td>242</td>\n",
              "      <td>17.8</td>\n",
              "      <td>4.03</td>\n",
              "      <td>34.7</td>\n",
              "    </tr>\n",
              "    <tr>\n",
              "      <th>3</th>\n",
              "      <td>0.03237</td>\n",
              "      <td>0.0</td>\n",
              "      <td>2.18</td>\n",
              "      <td>0</td>\n",
              "      <td>0.458</td>\n",
              "      <td>6.998</td>\n",
              "      <td>45.8</td>\n",
              "      <td>6.0622</td>\n",
              "      <td>3</td>\n",
              "      <td>222</td>\n",
              "      <td>18.7</td>\n",
              "      <td>2.94</td>\n",
              "      <td>33.4</td>\n",
              "    </tr>\n",
              "    <tr>\n",
              "      <th>4</th>\n",
              "      <td>0.06905</td>\n",
              "      <td>0.0</td>\n",
              "      <td>2.18</td>\n",
              "      <td>0</td>\n",
              "      <td>0.458</td>\n",
              "      <td>7.147</td>\n",
              "      <td>54.2</td>\n",
              "      <td>6.0622</td>\n",
              "      <td>3</td>\n",
              "      <td>222</td>\n",
              "      <td>18.7</td>\n",
              "      <td>5.33</td>\n",
              "      <td>36.2</td>\n",
              "    </tr>\n",
              "  </tbody>\n",
              "</table>\n",
              "</div>"
            ],
            "text/plain": [
              "      crim    zn  indus  chas    nox     rm   age     dis  rad  tax  ptratio  \\\n",
              "0  0.00632  18.0   2.31     0  0.538  6.575  65.2  4.0900    1  296     15.3   \n",
              "1  0.02731   0.0   7.07     0  0.469  6.421  78.9  4.9671    2  242     17.8   \n",
              "2  0.02729   0.0   7.07     0  0.469  7.185  61.1  4.9671    2  242     17.8   \n",
              "3  0.03237   0.0   2.18     0  0.458  6.998  45.8  6.0622    3  222     18.7   \n",
              "4  0.06905   0.0   2.18     0  0.458  7.147  54.2  6.0622    3  222     18.7   \n",
              "\n",
              "   lstat  medv  \n",
              "0   4.98  24.0  \n",
              "1   9.14  21.6  \n",
              "2   4.03  34.7  \n",
              "3   2.94  33.4  \n",
              "4   5.33  36.2  "
            ]
          },
          "execution_count": 30,
          "metadata": {},
          "output_type": "execute_result"
        }
      ],
      "source": [
        "df.head()"
      ]
    },
    {
      "cell_type": "code",
      "execution_count": 31,
      "id": "effefac7-4ca0-4c0f-974e-f552959c5137",
      "metadata": {
        "id": "effefac7-4ca0-4c0f-974e-f552959c5137",
        "outputId": "e3a54219-1fcb-462a-e7e8-c61d64a862f9"
      },
      "outputs": [
        {
          "data": {
            "text/plain": [
              "(506, 13)"
            ]
          },
          "execution_count": 31,
          "metadata": {},
          "output_type": "execute_result"
        }
      ],
      "source": [
        "df.shape"
      ]
    },
    {
      "cell_type": "code",
      "execution_count": 32,
      "id": "90382eb0-0318-4467-842d-84d1e17ab12e",
      "metadata": {
        "id": "90382eb0-0318-4467-842d-84d1e17ab12e",
        "outputId": "fc39220f-c232-4d8f-b52c-c9143f0a45c4"
      },
      "outputs": [
        {
          "data": {
            "text/plain": [
              "crim       float64\n",
              "zn         float64\n",
              "indus      float64\n",
              "chas         int64\n",
              "nox        float64\n",
              "rm         float64\n",
              "age        float64\n",
              "dis        float64\n",
              "rad          int64\n",
              "tax          int64\n",
              "ptratio    float64\n",
              "lstat      float64\n",
              "medv       float64\n",
              "dtype: object"
            ]
          },
          "execution_count": 32,
          "metadata": {},
          "output_type": "execute_result"
        }
      ],
      "source": [
        "df.dtypes"
      ]
    },
    {
      "cell_type": "markdown",
      "id": "bc13c17d-7acd-4342-8647-86ed25e700d6",
      "metadata": {
        "id": "bc13c17d-7acd-4342-8647-86ed25e700d6"
      },
      "source": [
        "## Initial data manipulation and exploration"
      ]
    },
    {
      "cell_type": "code",
      "execution_count": 33,
      "id": "842e4545-b1c9-483d-a3fd-fb6586fd981b",
      "metadata": {
        "id": "842e4545-b1c9-483d-a3fd-fb6586fd981b"
      },
      "outputs": [],
      "source": [
        "# Plot the histograms of all the features\n",
        "# your code below...\n"
      ]
    },
    {
      "cell_type": "code",
      "execution_count": 34,
      "id": "e603e4e6",
      "metadata": {},
      "outputs": [
        {
          "data": {
            "image/png": "[encoded data removed]",
            "text/plain": [
              "<Figure size 1500x1500 with 16 Axes>"
            ]
          },
          "metadata": {},
          "output_type": "display_data"
        }
      ],
      "source": [
        "histograms = df.hist(figsize=(15,15))"
      ]
    },
    {
      "cell_type": "code",
      "execution_count": 35,
      "id": "d770904b-c586-41cc-b085-91f4d22b18e7",
      "metadata": {
        "id": "d770904b-c586-41cc-b085-91f4d22b18e7"
      },
      "outputs": [],
      "source": [
        "# There are no missing values, but some histograms seem either bimodal, or skewed, or both.\n",
        "# For this exercise, we will bucketize (bin) the features indus, rad and tax only.  The number of buckets for each\n",
        "# of these variables will be 20, and the bucketization will be using regularly spaced intervals\n",
        "# (hint: use pd.cut, specifying the number of bins as 20).\n",
        "# You can do the bucketization in-place, or a new dataframe, up to you.\n",
        "#\n",
        "# you code below...\n"
      ]
    },
    {
      "cell_type": "code",
      "execution_count": 36,
      "id": "5cecb90e-d0a7-4a40-affd-adec9e09b70b",
      "metadata": {
        "id": "5cecb90e-d0a7-4a40-affd-adec9e09b70b"
      },
      "outputs": [
        {
          "data": {
            "text/html": [
              "<div>\n",
              "<style scoped>\n",
              "    .dataframe tbody tr th:only-of-type {\n",
              "        vertical-align: middle;\n",
              "    }\n",
              "\n",
              "    .dataframe tbody tr th {\n",
              "        vertical-align: top;\n",
              "    }\n",
              "\n",
              "    .dataframe thead th {\n",
              "        text-align: right;\n",
              "    }\n",
              "</style>\n",
              "<table border=\"1\" class=\"dataframe\">\n",
              "  <thead>\n",
              "    <tr style=\"text-align: right;\">\n",
              "      <th></th>\n",
              "      <th>crim</th>\n",
              "      <th>zn</th>\n",
              "      <th>indus</th>\n",
              "      <th>chas</th>\n",
              "      <th>nox</th>\n",
              "      <th>rm</th>\n",
              "      <th>age</th>\n",
              "      <th>dis</th>\n",
              "      <th>rad</th>\n",
              "      <th>tax</th>\n",
              "      <th>ptratio</th>\n",
              "      <th>lstat</th>\n",
              "      <th>medv</th>\n",
              "    </tr>\n",
              "  </thead>\n",
              "  <tbody>\n",
              "    <tr>\n",
              "      <th>0</th>\n",
              "      <td>0.00632</td>\n",
              "      <td>18.0</td>\n",
              "      <td>(1.824, 3.188]</td>\n",
              "      <td>0</td>\n",
              "      <td>0.538</td>\n",
              "      <td>6.575</td>\n",
              "      <td>65.2</td>\n",
              "      <td>4.0900</td>\n",
              "      <td>(0.977, 2.15]</td>\n",
              "      <td>(291.8, 318.0]</td>\n",
              "      <td>15.3</td>\n",
              "      <td>4.98</td>\n",
              "      <td>24.0</td>\n",
              "    </tr>\n",
              "    <tr>\n",
              "      <th>1</th>\n",
              "      <td>0.02731</td>\n",
              "      <td>0.0</td>\n",
              "      <td>(5.916, 7.28]</td>\n",
              "      <td>0</td>\n",
              "      <td>0.469</td>\n",
              "      <td>6.421</td>\n",
              "      <td>78.9</td>\n",
              "      <td>4.9671</td>\n",
              "      <td>(0.977, 2.15]</td>\n",
              "      <td>(239.4, 265.6]</td>\n",
              "      <td>17.8</td>\n",
              "      <td>9.14</td>\n",
              "      <td>21.6</td>\n",
              "    </tr>\n",
              "    <tr>\n",
              "      <th>2</th>\n",
              "      <td>0.02729</td>\n",
              "      <td>0.0</td>\n",
              "      <td>(5.916, 7.28]</td>\n",
              "      <td>0</td>\n",
              "      <td>0.469</td>\n",
              "      <td>7.185</td>\n",
              "      <td>61.1</td>\n",
              "      <td>4.9671</td>\n",
              "      <td>(0.977, 2.15]</td>\n",
              "      <td>(239.4, 265.6]</td>\n",
              "      <td>17.8</td>\n",
              "      <td>4.03</td>\n",
              "      <td>34.7</td>\n",
              "    </tr>\n",
              "    <tr>\n",
              "      <th>3</th>\n",
              "      <td>0.03237</td>\n",
              "      <td>0.0</td>\n",
              "      <td>(1.824, 3.188]</td>\n",
              "      <td>0</td>\n",
              "      <td>0.458</td>\n",
              "      <td>6.998</td>\n",
              "      <td>45.8</td>\n",
              "      <td>6.0622</td>\n",
              "      <td>(2.15, 3.3]</td>\n",
              "      <td>(213.2, 239.4]</td>\n",
              "      <td>18.7</td>\n",
              "      <td>2.94</td>\n",
              "      <td>33.4</td>\n",
              "    </tr>\n",
              "    <tr>\n",
              "      <th>4</th>\n",
              "      <td>0.06905</td>\n",
              "      <td>0.0</td>\n",
              "      <td>(1.824, 3.188]</td>\n",
              "      <td>0</td>\n",
              "      <td>0.458</td>\n",
              "      <td>7.147</td>\n",
              "      <td>54.2</td>\n",
              "      <td>6.0622</td>\n",
              "      <td>(2.15, 3.3]</td>\n",
              "      <td>(213.2, 239.4]</td>\n",
              "      <td>18.7</td>\n",
              "      <td>5.33</td>\n",
              "      <td>36.2</td>\n",
              "    </tr>\n",
              "  </tbody>\n",
              "</table>\n",
              "</div>"
            ],
            "text/plain": [
              "      crim    zn           indus  chas    nox     rm   age     dis  \\\n",
              "0  0.00632  18.0  (1.824, 3.188]     0  0.538  6.575  65.2  4.0900   \n",
              "1  0.02731   0.0   (5.916, 7.28]     0  0.469  6.421  78.9  4.9671   \n",
              "2  0.02729   0.0   (5.916, 7.28]     0  0.469  7.185  61.1  4.9671   \n",
              "3  0.03237   0.0  (1.824, 3.188]     0  0.458  6.998  45.8  6.0622   \n",
              "4  0.06905   0.0  (1.824, 3.188]     0  0.458  7.147  54.2  6.0622   \n",
              "\n",
              "             rad             tax  ptratio  lstat  medv  \n",
              "0  (0.977, 2.15]  (291.8, 318.0]     15.3   4.98  24.0  \n",
              "1  (0.977, 2.15]  (239.4, 265.6]     17.8   9.14  21.6  \n",
              "2  (0.977, 2.15]  (239.4, 265.6]     17.8   4.03  34.7  \n",
              "3    (2.15, 3.3]  (213.2, 239.4]     18.7   2.94  33.4  \n",
              "4    (2.15, 3.3]  (213.2, 239.4]     18.7   5.33  36.2  "
            ]
          },
          "execution_count": 36,
          "metadata": {},
          "output_type": "execute_result"
        }
      ],
      "source": [
        "# Step 1: Create bins for 'indus', 'rad', 'tax'\n",
        "df['indus'] = pd.cut(df['indus'], bins=20)\n",
        "df['rad'] = pd.cut(df['rad'], bins=20)\n",
        "df['tax'] = pd.cut(df['tax'], bins=20)\n",
        "\n",
        "df.head()"
      ]
    },
    {
      "cell_type": "code",
      "execution_count": 10,
      "id": "f57fe193-472e-43fb-99ba-02be59b2a961",
      "metadata": {
        "id": "f57fe193-472e-43fb-99ba-02be59b2a961"
      },
      "outputs": [],
      "source": [
        "# dummy encode the new categoricals created in the last step for indus, rad, tax.\n",
        "# You can do in-place, or copy, whatever you choose.\n",
        "# your code below..."
      ]
    },
    {
      "cell_type": "code",
      "execution_count": 37,
      "id": "922638b3-9d2b-4bff-bfc5-f0e2a5796af2",
      "metadata": {
        "id": "922638b3-9d2b-4bff-bfc5-f0e2a5796af2"
      },
      "outputs": [
        {
          "data": {
            "text/html": [
              "<div>\n",
              "<style scoped>\n",
              "    .dataframe tbody tr th:only-of-type {\n",
              "        vertical-align: middle;\n",
              "    }\n",
              "\n",
              "    .dataframe tbody tr th {\n",
              "        vertical-align: top;\n",
              "    }\n",
              "\n",
              "    .dataframe thead th {\n",
              "        text-align: right;\n",
              "    }\n",
              "</style>\n",
              "<table border=\"1\" class=\"dataframe\">\n",
              "  <thead>\n",
              "    <tr style=\"text-align: right;\">\n",
              "      <th></th>\n",
              "      <th>crim</th>\n",
              "      <th>zn</th>\n",
              "      <th>chas</th>\n",
              "      <th>nox</th>\n",
              "      <th>rm</th>\n",
              "      <th>age</th>\n",
              "      <th>dis</th>\n",
              "      <th>ptratio</th>\n",
              "      <th>lstat</th>\n",
              "      <th>medv</th>\n",
              "      <th>...</th>\n",
              "      <th>tax_(449.0, 475.2]</th>\n",
              "      <th>tax_(475.2, 501.4]</th>\n",
              "      <th>tax_(501.4, 527.6]</th>\n",
              "      <th>tax_(527.6, 553.8]</th>\n",
              "      <th>tax_(553.8, 580.0]</th>\n",
              "      <th>tax_(580.0, 606.2]</th>\n",
              "      <th>tax_(606.2, 632.4]</th>\n",
              "      <th>tax_(632.4, 658.6]</th>\n",
              "      <th>tax_(658.6, 684.8]</th>\n",
              "      <th>tax_(684.8, 711.0]</th>\n",
              "    </tr>\n",
              "  </thead>\n",
              "  <tbody>\n",
              "    <tr>\n",
              "      <th>0</th>\n",
              "      <td>0.00632</td>\n",
              "      <td>18.0</td>\n",
              "      <td>0</td>\n",
              "      <td>0.538</td>\n",
              "      <td>6.575</td>\n",
              "      <td>65.2</td>\n",
              "      <td>4.0900</td>\n",
              "      <td>15.3</td>\n",
              "      <td>4.98</td>\n",
              "      <td>24.0</td>\n",
              "      <td>...</td>\n",
              "      <td>False</td>\n",
              "      <td>False</td>\n",
              "      <td>False</td>\n",
              "      <td>False</td>\n",
              "      <td>False</td>\n",
              "      <td>False</td>\n",
              "      <td>False</td>\n",
              "      <td>False</td>\n",
              "      <td>False</td>\n",
              "      <td>False</td>\n",
              "    </tr>\n",
              "    <tr>\n",
              "      <th>1</th>\n",
              "      <td>0.02731</td>\n",
              "      <td>0.0</td>\n",
              "      <td>0</td>\n",
              "      <td>0.469</td>\n",
              "      <td>6.421</td>\n",
              "      <td>78.9</td>\n",
              "      <td>4.9671</td>\n",
              "      <td>17.8</td>\n",
              "      <td>9.14</td>\n",
              "      <td>21.6</td>\n",
              "      <td>...</td>\n",
              "      <td>False</td>\n",
              "      <td>False</td>\n",
              "      <td>False</td>\n",
              "      <td>False</td>\n",
              "      <td>False</td>\n",
              "      <td>False</td>\n",
              "      <td>False</td>\n",
              "      <td>False</td>\n",
              "      <td>False</td>\n",
              "      <td>False</td>\n",
              "    </tr>\n",
              "    <tr>\n",
              "      <th>2</th>\n",
              "      <td>0.02729</td>\n",
              "      <td>0.0</td>\n",
              "      <td>0</td>\n",
              "      <td>0.469</td>\n",
              "      <td>7.185</td>\n",
              "      <td>61.1</td>\n",
              "      <td>4.9671</td>\n",
              "      <td>17.8</td>\n",
              "      <td>4.03</td>\n",
              "      <td>34.7</td>\n",
              "      <td>...</td>\n",
              "      <td>False</td>\n",
              "      <td>False</td>\n",
              "      <td>False</td>\n",
              "      <td>False</td>\n",
              "      <td>False</td>\n",
              "      <td>False</td>\n",
              "      <td>False</td>\n",
              "      <td>False</td>\n",
              "      <td>False</td>\n",
              "      <td>False</td>\n",
              "    </tr>\n",
              "    <tr>\n",
              "      <th>3</th>\n",
              "      <td>0.03237</td>\n",
              "      <td>0.0</td>\n",
              "      <td>0</td>\n",
              "      <td>0.458</td>\n",
              "      <td>6.998</td>\n",
              "      <td>45.8</td>\n",
              "      <td>6.0622</td>\n",
              "      <td>18.7</td>\n",
              "      <td>2.94</td>\n",
              "      <td>33.4</td>\n",
              "      <td>...</td>\n",
              "      <td>False</td>\n",
              "      <td>False</td>\n",
              "      <td>False</td>\n",
              "      <td>False</td>\n",
              "      <td>False</td>\n",
              "      <td>False</td>\n",
              "      <td>False</td>\n",
              "      <td>False</td>\n",
              "      <td>False</td>\n",
              "      <td>False</td>\n",
              "    </tr>\n",
              "    <tr>\n",
              "      <th>4</th>\n",
              "      <td>0.06905</td>\n",
              "      <td>0.0</td>\n",
              "      <td>0</td>\n",
              "      <td>0.458</td>\n",
              "      <td>7.147</td>\n",
              "      <td>54.2</td>\n",
              "      <td>6.0622</td>\n",
              "      <td>18.7</td>\n",
              "      <td>5.33</td>\n",
              "      <td>36.2</td>\n",
              "      <td>...</td>\n",
              "      <td>False</td>\n",
              "      <td>False</td>\n",
              "      <td>False</td>\n",
              "      <td>False</td>\n",
              "      <td>False</td>\n",
              "      <td>False</td>\n",
              "      <td>False</td>\n",
              "      <td>False</td>\n",
              "      <td>False</td>\n",
              "      <td>False</td>\n",
              "    </tr>\n",
              "  </tbody>\n",
              "</table>\n",
              "<p>5 rows × 70 columns</p>\n",
              "</div>"
            ],
            "text/plain": [
              "      crim    zn  chas    nox     rm   age     dis  ptratio  lstat  medv  ...  \\\n",
              "0  0.00632  18.0     0  0.538  6.575  65.2  4.0900     15.3   4.98  24.0  ...   \n",
              "1  0.02731   0.0     0  0.469  6.421  78.9  4.9671     17.8   9.14  21.6  ...   \n",
              "2  0.02729   0.0     0  0.469  7.185  61.1  4.9671     17.8   4.03  34.7  ...   \n",
              "3  0.03237   0.0     0  0.458  6.998  45.8  6.0622     18.7   2.94  33.4  ...   \n",
              "4  0.06905   0.0     0  0.458  7.147  54.2  6.0622     18.7   5.33  36.2  ...   \n",
              "\n",
              "   tax_(449.0, 475.2]  tax_(475.2, 501.4]  tax_(501.4, 527.6]  \\\n",
              "0               False               False               False   \n",
              "1               False               False               False   \n",
              "2               False               False               False   \n",
              "3               False               False               False   \n",
              "4               False               False               False   \n",
              "\n",
              "   tax_(527.6, 553.8]  tax_(553.8, 580.0]  tax_(580.0, 606.2]  \\\n",
              "0               False               False               False   \n",
              "1               False               False               False   \n",
              "2               False               False               False   \n",
              "3               False               False               False   \n",
              "4               False               False               False   \n",
              "\n",
              "   tax_(606.2, 632.4]  tax_(632.4, 658.6]  tax_(658.6, 684.8]  \\\n",
              "0               False               False               False   \n",
              "1               False               False               False   \n",
              "2               False               False               False   \n",
              "3               False               False               False   \n",
              "4               False               False               False   \n",
              "\n",
              "   tax_(684.8, 711.0]  \n",
              "0               False  \n",
              "1               False  \n",
              "2               False  \n",
              "3               False  \n",
              "4               False  \n",
              "\n",
              "[5 rows x 70 columns]"
            ]
          },
          "execution_count": 37,
          "metadata": {},
          "output_type": "execute_result"
        }
      ],
      "source": [
        "df_1 = df.copy()\n",
        "\n",
        "df_1 = pd.get_dummies(df, columns=['indus', 'rad', 'tax'])\n",
        "\n",
        "df_1.head()"
      ]
    },
    {
      "cell_type": "code",
      "execution_count": 12,
      "id": "0ac8e045-925d-48d0-99e8-3249201f6861",
      "metadata": {
        "id": "0ac8e045-925d-48d0-99e8-3249201f6861"
      },
      "outputs": [],
      "source": [
        "# The last step may have created columns with all values 0 (corresponding to empty buckets).\n",
        "# Drop all such columns, because they will cause problem when we standard scale below.\n",
        "# In-place or copy, up to you.\n",
        "#\n",
        "# your code below...\n",
        "#\n"
      ]
    },
    {
      "cell_type": "code",
      "execution_count": 38,
      "id": "f02bbd78-e2d2-442c-aded-d0bfe6018cae",
      "metadata": {
        "id": "f02bbd78-e2d2-442c-aded-d0bfe6018cae"
      },
      "outputs": [],
      "source": [
        "# Step 3: Remove any all-zero columns resulting from the binned columns\n",
        "df_2 = df_1.copy()\n",
        "binned_columns = [col for col in df_2.columns if col.startswith(('indus', 'rad', 'tax'))]\n",
        "df_2 = df_2.drop(df_2[binned_columns].columns[(df_2[binned_columns] == 0).all()], axis=1)"
      ]
    },
    {
      "cell_type": "code",
      "execution_count": 14,
      "id": "baa7e204-c74d-4e51-ba58-435450b77f67",
      "metadata": {
        "id": "baa7e204-c74d-4e51-ba58-435450b77f67"
      },
      "outputs": [],
      "source": [
        "# At this point you should have all the original features without change, except for indus, rad and tax.\n",
        "# indus,rad,tax should be one-hot encoded into at most 20 categories each, after removing empty\n",
        "# buckets from the original 20 that were created in the bucketization."
      ]
    },
    {
      "cell_type": "code",
      "execution_count": 15,
      "id": "4377c03f-578f-4df9-a2be-08ca9acf4f52",
      "metadata": {
        "id": "4377c03f-578f-4df9-a2be-08ca9acf4f52"
      },
      "outputs": [],
      "source": [
        "# standard scale all the features, including the one-hot encoding columns. (Do not scale the target medv variable)\n",
        "# It is recommended (but not mandatory) to do this after separating the dataframe to X (the features) and y (the target).\n",
        "# In place or copy, up to you.\n",
        "#\n",
        "# your code below...\n",
        "#\n"
      ]
    },
    {
      "cell_type": "code",
      "execution_count": 39,
      "id": "5b8ba219-2708-4a2b-8516-23abb12af39c",
      "metadata": {
        "id": "5b8ba219-2708-4a2b-8516-23abb12af39c"
      },
      "outputs": [],
      "source": [
        "# Proceed with standard scaling of features (excluding 'medv')\n",
        "from sklearn.preprocessing import StandardScaler\n",
        "scaler = StandardScaler()\n",
        "features = df_2.drop('medv', axis=1)\n",
        "scaled_features = scaler.fit_transform(features)\n",
        "df_scaled = pd.DataFrame(scaled_features, columns=features.columns)\n",
        "df_scaled['medv'] = df_2['medv']"
      ]
    },
    {
      "cell_type": "code",
      "execution_count": 22,
      "id": "2f715a5f-e80e-4701-8b6e-9f192673ac52",
      "metadata": {
        "id": "2f715a5f-e80e-4701-8b6e-9f192673ac52"
      },
      "outputs": [],
      "source": [
        "# Split the data (both features and using labels, train_test_split (from sklearn), using random_state=200 and train_size=0.8\n",
        "# Obtain train (80%) and test (20%) data.  No need for val set.\n",
        "#\n",
        "# Your code below\n",
        "#\n"
      ]
    },
    {
      "cell_type": "code",
      "execution_count": 40,
      "id": "5d8b3f14-e348-4a2c-84d2-763764d10707",
      "metadata": {
        "id": "5d8b3f14-e348-4a2c-84d2-763764d10707"
      },
      "outputs": [],
      "source": [
        "# Split the data into training and test sets\n",
        "from sklearn.model_selection import train_test_split\n",
        "X = df_scaled.drop('medv', axis=1)\n",
        "y = df_scaled['medv']\n",
        "X_train, X_test, y_train, y_test = train_test_split(X, y, train_size=0.8, random_state=200)"
      ]
    },
    {
      "cell_type": "code",
      "execution_count": null,
      "id": "2de0145d-2374-41e6-aec8-d4986e6fc872",
      "metadata": {
        "id": "2de0145d-2374-41e6-aec8-d4986e6fc872"
      },
      "outputs": [],
      "source": [
        "# Run OLS (Ordinary Least Squares) using sklearn, and compute r2_score (R-squared) for both training and test.\n",
        "# Enter the results in the appropriate location in the exam page on Blackboard,\n",
        "# then submit it with this notebook attached.\n",
        "#\n",
        "# Your code below"
      ]
    },
    {
      "cell_type": "code",
      "execution_count": 43,
      "id": "fed78afa-c162-4ff2-b3d5-136702c8474f",
      "metadata": {
        "id": "fed78afa-c162-4ff2-b3d5-136702c8474f"
      },
      "outputs": [
        {
          "name": "stdout",
          "output_type": "stream",
          "text": [
            "R-squared for Training Data: 0.7929510254381671\n",
            "R-squared for Test Data: 0.6593454055300743\n"
          ]
        }
      ],
      "source": [
        "from sklearn.linear_model import LinearRegression\n",
        "from sklearn.metrics import r2_score\n",
        "\n",
        "# Run OLS using sklearn\n",
        "model = LinearRegression()\n",
        "model.fit(X_train, y_train)\n",
        "\n",
        "# Predict for both training and test data\n",
        "y_train_pred = model.predict(X_train)\n",
        "y_test_pred = model.predict(X_test)\n",
        "\n",
        "# Compute R-squared for both training and test data\n",
        "r2_train = r2_score(y_train, y_train_pred)\n",
        "r2_test = r2_score(y_test, y_test_pred)\n",
        "\n",
        "# Print the R-squared values\n",
        "print(f'R-squared for Training Data: {r2_train}')\n",
        "print(f'R-squared for Test Data: {r2_test}')\n"
      ]
    },
    {
      "cell_type": "code",
      "execution_count": null,
      "id": "1d7edfda-33d5-4bb1-83a4-70b6b895a99b",
      "metadata": {
        "id": "1d7edfda-33d5-4bb1-83a4-70b6b895a99b"
      },
      "outputs": [],
      "source": [
        "# Good luck!"
      ]
    }
  ],
  "metadata": {
    "colab": {
      "provenance": []
    },
    "kernelspec": {
      "display_name": "Python 3 (ipykernel)",
      "language": "python",
      "name": "python3"
    },
    "language_info": {
      "codemirror_mode": {
        "name": "ipython",
        "version": 3
      },
      "file_extension": ".py",
      "mimetype": "text/x-python",
      "name": "python",
      "nbconvert_exporter": "python",
      "pygments_lexer": "ipython3",
      "version": "3.11.5"
    }
  },
  "nbformat": 4,
  "nbformat_minor": 5
}
